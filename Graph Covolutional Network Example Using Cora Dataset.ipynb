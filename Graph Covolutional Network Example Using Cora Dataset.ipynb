{
 "cells": [
  {
   "cell_type": "code",
   "execution_count": 5,
   "metadata": {},
   "outputs": [],
   "source": [
    "%matplotlib inline"
   ]
  },
  {
   "cell_type": "code",
   "execution_count": 6,
   "metadata": {},
   "outputs": [
    {
     "name": "stdout",
     "output_type": "stream",
     "text": [
      "Collecting dgl\n",
      "  Downloading https://files.pythonhosted.org/packages/d4/9f/92b526e8d8566308e302d5fa55b255f5100a2677764f993a7eaf3e4f3b14/dgl-0.5.2-cp37-cp37m-win_amd64.whl (3.4MB)\n",
      "Requirement already satisfied: networkx>=2.1 in c:\\users\\rothg\\anaconda3\\lib\\site-packages (from dgl) (2.3)\n",
      "Requirement already satisfied: scipy>=1.1.0 in c:\\users\\rothg\\anaconda3\\lib\\site-packages (from dgl) (1.4.1)\n",
      "Requirement already satisfied: requests>=2.19.0 in c:\\users\\rothg\\anaconda3\\lib\\site-packages (from dgl) (2.22.0)\n",
      "Requirement already satisfied: numpy>=1.14.0 in c:\\users\\rothg\\appdata\\roaming\\python\\python37\\site-packages (from dgl) (1.18.3)\n",
      "Requirement already satisfied: decorator>=4.3.0 in c:\\users\\rothg\\anaconda3\\lib\\site-packages (from networkx>=2.1->dgl) (4.4.0)\n",
      "Requirement already satisfied: chardet<3.1.0,>=3.0.2 in c:\\users\\rothg\\anaconda3\\lib\\site-packages (from requests>=2.19.0->dgl) (3.0.4)\n",
      "Requirement already satisfied: idna<2.9,>=2.5 in c:\\users\\rothg\\anaconda3\\lib\\site-packages (from requests>=2.19.0->dgl) (2.8)\n",
      "Requirement already satisfied: certifi>=2017.4.17 in c:\\users\\rothg\\anaconda3\\lib\\site-packages (from requests>=2.19.0->dgl) (2020.6.20)\n",
      "Requirement already satisfied: urllib3!=1.25.0,!=1.25.1,<1.26,>=1.21.1 in c:\\users\\rothg\\anaconda3\\lib\\site-packages (from requests>=2.19.0->dgl) (1.24.2)\n",
      "Installing collected packages: dgl\n",
      "Successfully installed dgl-0.5.2\n",
      "Note: you may need to restart the kernel to use updated packages.\n"
     ]
    }
   ],
   "source": [
    "pip install dgl"
   ]
  },
  {
   "cell_type": "markdown",
   "metadata": {},
   "source": [
    "\n",
    "\n",
    "Graph Convolutional Network\n",
    "====================================\n",
    "\n",
    "**Author:** `Qi Huang <https://github.com/HQ01>`_, `Minjie Wang  <https://jermainewang.github.io/>`_,\n",
    "Yu Gai, Quan Gan, Zheng Zhang\n",
    "\n",
    "This is a gentle introduction of using DGL to implement Graph Convolutional\n",
    "Networks (Kipf & Welling et al., `Semi-Supervised Classification with Graph\n",
    "Convolutional Networks <https://arxiv.org/pdf/1609.02907.pdf>`_). We explain\n",
    "what is under the hood of the :class:`~dgl.nn.pytorch.GraphConv` module.\n",
    "The reader is expected to learn how to define a new GNN layer using DGL's\n",
    "message passing APIs.\n",
    "\n",
    "We build upon the :doc:`earlier tutorial <../../basics/3_pagerank>` on DGLGraph\n",
    "and demonstrate how DGL combines graph with deep neural network and learn\n",
    "structural representations.\n"
   ]
  },
  {
   "cell_type": "markdown",
   "metadata": {},
   "source": [
    "Model Overview\n",
    "------------------------------------------\n",
    "GCN from the perspective of message passing\n",
    "```````````````````````````````````````````````\n",
    "We describe a layer of graph convolutional neural network from a message\n",
    "passing perspective; the math can be found `here <math_>`_.\n",
    "It boils down to the following step, for each node $u$:\n",
    "\n",
    "1) Aggregate neighbors' representations $h_{v}$ to produce an\n",
    "intermediate representation $\\hat{h}_u$.  2) Transform the aggregated\n",
    "representation $\\hat{h}_{u}$ with a linear projection followed by a\n",
    "non-linearity: $h_{u} = f(W_{u} \\hat{h}_u)$.\n",
    "\n",
    "We will implement step 1 with DGL message passing, and step 2 by\n",
    "PyTorch ``nn.Module``.\n",
    "\n",
    "GCN implementation with DGL\n",
    "``````````````````````````````````````````\n",
    "We first define the message and reduce function as usual.  Since the\n",
    "aggregation on a node $u$ only involves summing over the neighbors'\n",
    "representations $h_v$, we can simply use builtin functions:\n",
    "\n"
   ]
  },
  {
   "cell_type": "code",
   "execution_count": 7,
   "metadata": {},
   "outputs": [
    {
     "name": "stderr",
     "output_type": "stream",
     "text": [
      "DGL backend not selected or invalid.  Assuming PyTorch for now.\n",
      "Using backend: pytorch\n"
     ]
    },
    {
     "name": "stdout",
     "output_type": "stream",
     "text": [
      "Setting the default backend to \"pytorch\". You can change it in the ~/.dgl/config.json file or export the DGLBACKEND environment variable.  Valid options are: pytorch, mxnet, tensorflow (all lowercase)\n"
     ]
    }
   ],
   "source": [
    "import dgl\n",
    "import dgl.function as fn\n",
    "import torch as th\n",
    "import torch.nn as nn\n",
    "import torch.nn.functional as F\n",
    "from dgl import DGLGraph\n",
    "\n",
    "gcn_msg = fn.copy_src(src='h', out='m')\n",
    "gcn_reduce = fn.sum(msg='m', out='h')"
   ]
  },
  {
   "cell_type": "markdown",
   "metadata": {},
   "source": [
    "We then proceed to define the GCNLayer module. A GCNLayer essentially performs\n",
    "message passing on all the nodes then applies a fully-connected layer.\n",
    "\n"
   ]
  },
  {
   "cell_type": "code",
   "execution_count": 8,
   "metadata": {},
   "outputs": [],
   "source": [
    "class GCNLayer(nn.Module):\n",
    "    def __init__(self, in_feats, out_feats):\n",
    "        super(GCNLayer, self).__init__()\n",
    "        self.linear = nn.Linear(in_feats, out_feats)\n",
    "\n",
    "    def forward(self, g, feature):\n",
    "        # Creating a local scope so that all the stored ndata and edata\n",
    "        # (such as the `'h'` ndata below) are automatically popped out\n",
    "        # when the scope exits.\n",
    "        with g.local_scope():\n",
    "            g.ndata['h'] = feature\n",
    "            g.update_all(gcn_msg, gcn_reduce)\n",
    "            h = g.ndata['h']\n",
    "            return self.linear(h)"
   ]
  },
  {
   "cell_type": "markdown",
   "metadata": {},
   "source": [
    "The forward function is essentially the same as any other commonly seen NNs\n",
    "model in PyTorch.  We can initialize GCN like any ``nn.Module``. For example,\n",
    "let's define a simple neural network consisting of two GCN layers. Suppose we\n",
    "are training the classifier for the cora dataset (the input feature size is\n",
    "1433 and the number of classes is 7). The last GCN layer computes node embeddings,\n",
    "so the last layer in general does not apply activation.\n",
    "\n"
   ]
  },
  {
   "cell_type": "code",
   "execution_count": 9,
   "metadata": {},
   "outputs": [
    {
     "name": "stdout",
     "output_type": "stream",
     "text": [
      "Net(\n",
      "  (layer1): GCNLayer(\n",
      "    (linear): Linear(in_features=1433, out_features=16, bias=True)\n",
      "  )\n",
      "  (layer2): GCNLayer(\n",
      "    (linear): Linear(in_features=16, out_features=7, bias=True)\n",
      "  )\n",
      ")\n"
     ]
    }
   ],
   "source": [
    "class Net(nn.Module):\n",
    "    def __init__(self):\n",
    "        super(Net, self).__init__()\n",
    "        self.layer1 = GCNLayer(1433, 16)\n",
    "        self.layer2 = GCNLayer(16, 7)\n",
    "    \n",
    "    def forward(self, g, features):\n",
    "        x = F.relu(self.layer1(g, features))\n",
    "        x = self.layer2(g, x)\n",
    "        return x\n",
    "net = Net()\n",
    "print(net)"
   ]
  },
  {
   "cell_type": "markdown",
   "metadata": {},
   "source": [
    "We load the cora dataset using DGL's built-in data module.\n",
    "\n"
   ]
  },
  {
   "cell_type": "code",
   "execution_count": 10,
   "metadata": {},
   "outputs": [],
   "source": [
    "from dgl.data import citation_graph as citegrh\n",
    "import networkx as nx\n",
    "def load_cora_data():\n",
    "    data = citegrh.load_cora()\n",
    "    features = th.FloatTensor(data.features)\n",
    "    labels = th.LongTensor(data.labels)\n",
    "    train_mask = th.BoolTensor(data.train_mask)\n",
    "    test_mask = th.BoolTensor(data.test_mask)\n",
    "    g = DGLGraph(data.graph)\n",
    "    return g, features, labels, train_mask, test_mask"
   ]
  },
  {
   "cell_type": "markdown",
   "metadata": {},
   "source": [
    "When a model is trained, we can use the following method to evaluate\n",
    "the performance of the model on the test dataset:\n",
    "\n"
   ]
  },
  {
   "cell_type": "code",
   "execution_count": 11,
   "metadata": {},
   "outputs": [],
   "source": [
    "def evaluate(model, g, features, labels, mask):\n",
    "    model.eval()\n",
    "    with th.no_grad():\n",
    "        logits = model(g, features)\n",
    "        logits = logits[mask]\n",
    "        labels = labels[mask]\n",
    "        _, indices = th.max(logits, dim=1)\n",
    "        correct = th.sum(indices == labels)\n",
    "        return correct.item() * 1.0 / len(labels)"
   ]
  },
  {
   "cell_type": "markdown",
   "metadata": {},
   "source": [
    "We then train the network as follows:\n",
    "\n"
   ]
  },
  {
   "cell_type": "code",
   "execution_count": 12,
   "metadata": {},
   "outputs": [
    {
     "name": "stdout",
     "output_type": "stream",
     "text": [
      "Downloading C:\\Users\\rothg\\.dgl\\cora_v2.zip from https://data.dgl.ai/dataset/cora_v2.zip...\n",
      "Extracting file to C:\\Users\\rothg\\.dgl\\cora_v2\n",
      "Finished data loading and preprocessing.\n",
      "  NumNodes: 2708\n",
      "  NumEdges: 10556\n",
      "  NumFeats: 1433\n",
      "  NumClasses: 7\n",
      "  NumTrainingSamples: 140\n",
      "  NumValidationSamples: 500\n",
      "  NumTestSamples: 1000\n",
      "Done saving data into cached files.\n",
      "Epoch 00000 | Loss 1.9607 | Test Acc 0.1670 | Time(s) nan\n",
      "Epoch 00001 | Loss 1.8344 | Test Acc 0.1940 | Time(s) nan\n",
      "Epoch 00002 | Loss 1.7358 | Test Acc 0.2920 | Time(s) nan"
     ]
    },
    {
     "name": "stderr",
     "output_type": "stream",
     "text": [
      "C:\\Users\\rothg\\Anaconda3\\lib\\site-packages\\dgl\\data\\utils.py:285: UserWarning: Property dataset.feat will be deprecated, please use g.ndata['feat'] instead.\n",
      "  warnings.warn('Property {} will be deprecated, please use {} instead.'.format(old, new))\n",
      "C:\\Users\\rothg\\Anaconda3\\lib\\site-packages\\dgl\\data\\utils.py:285: UserWarning: Property dataset.label will be deprecated, please use g.ndata['label'] instead.\n",
      "  warnings.warn('Property {} will be deprecated, please use {} instead.'.format(old, new))\n",
      "C:\\Users\\rothg\\Anaconda3\\lib\\site-packages\\dgl\\data\\utils.py:285: UserWarning: Property dataset.train_mask will be deprecated, please use g.ndata['train_mask'] instead.\n",
      "  warnings.warn('Property {} will be deprecated, please use {} instead.'.format(old, new))\n",
      "C:\\Users\\rothg\\Anaconda3\\lib\\site-packages\\dgl\\data\\utils.py:285: UserWarning: Property dataset.test_mask will be deprecated, please use g.ndata['test_mask'] instead.\n",
      "  warnings.warn('Property {} will be deprecated, please use {} instead.'.format(old, new))\n",
      "C:\\Users\\rothg\\Anaconda3\\lib\\site-packages\\dgl\\data\\utils.py:285: UserWarning: Property dataset.graph will be deprecated, please use dataset.g instead.\n",
      "  warnings.warn('Property {} will be deprecated, please use {} instead.'.format(old, new))\n",
      "C:\\Users\\rothg\\Anaconda3\\lib\\site-packages\\dgl\\base.py:45: DGLWarning: Recommend creating graphs by `dgl.graph(data)` instead of `dgl.DGLGraph(data)`.\n",
      "  return warnings.warn(message, category=category, stacklevel=1)\n",
      "C:\\Users\\rothg\\AppData\\Roaming\\Python\\Python37\\site-packages\\numpy\\core\\fromnumeric.py:3335: RuntimeWarning: Mean of empty slice.\n",
      "  out=out, **kwargs)\n",
      "C:\\Users\\rothg\\AppData\\Roaming\\Python\\Python37\\site-packages\\numpy\\core\\_methods.py:161: RuntimeWarning: invalid value encountered in double_scalars\n",
      "  ret = ret.dtype.type(ret / rcount)\n"
     ]
    },
    {
     "name": "stdout",
     "output_type": "stream",
     "text": [
      "\n",
      "Epoch 00003 | Loss 1.6542 | Test Acc 0.4110 | Time(s) 0.0249\n",
      "Epoch 00004 | Loss 1.5789 | Test Acc 0.5060 | Time(s) 0.0234\n",
      "Epoch 00005 | Loss 1.5080 | Test Acc 0.6080 | Time(s) 0.0219\n",
      "Epoch 00006 | Loss 1.4383 | Test Acc 0.6530 | Time(s) 0.0204\n",
      "Epoch 00007 | Loss 1.3661 | Test Acc 0.6850 | Time(s) 0.0195\n",
      "Epoch 00008 | Loss 1.2918 | Test Acc 0.7080 | Time(s) 0.0196\n",
      "Epoch 00009 | Loss 1.2174 | Test Acc 0.7140 | Time(s) 0.0191\n",
      "Epoch 00010 | Loss 1.1422 | Test Acc 0.7220 | Time(s) 0.0187\n",
      "Epoch 00011 | Loss 1.0669 | Test Acc 0.7240 | Time(s) 0.0184\n",
      "Epoch 00012 | Loss 0.9959 | Test Acc 0.7210 | Time(s) 0.0182\n",
      "Epoch 00013 | Loss 0.9293 | Test Acc 0.7150 | Time(s) 0.0179\n",
      "Epoch 00014 | Loss 0.8663 | Test Acc 0.7160 | Time(s) 0.0177\n",
      "Epoch 00015 | Loss 0.8067 | Test Acc 0.7090 | Time(s) 0.0180\n",
      "Epoch 00016 | Loss 0.7511 | Test Acc 0.7090 | Time(s) 0.0178\n",
      "Epoch 00017 | Loss 0.6996 | Test Acc 0.7110 | Time(s) 0.0177\n",
      "Epoch 00018 | Loss 0.6513 | Test Acc 0.7080 | Time(s) 0.0177\n",
      "Epoch 00019 | Loss 0.6067 | Test Acc 0.7090 | Time(s) 0.0176\n",
      "Epoch 00020 | Loss 0.5655 | Test Acc 0.7120 | Time(s) 0.0175\n",
      "Epoch 00021 | Loss 0.5278 | Test Acc 0.7150 | Time(s) 0.0176\n",
      "Epoch 00022 | Loss 0.4936 | Test Acc 0.7180 | Time(s) 0.0175\n",
      "Epoch 00023 | Loss 0.4620 | Test Acc 0.7240 | Time(s) 0.0175\n",
      "Epoch 00024 | Loss 0.4323 | Test Acc 0.7280 | Time(s) 0.0174\n",
      "Epoch 00025 | Loss 0.4049 | Test Acc 0.7280 | Time(s) 0.0173\n",
      "Epoch 00026 | Loss 0.3797 | Test Acc 0.7240 | Time(s) 0.0173\n",
      "Epoch 00027 | Loss 0.3562 | Test Acc 0.7230 | Time(s) 0.0175\n",
      "Epoch 00028 | Loss 0.3345 | Test Acc 0.7220 | Time(s) 0.0175\n",
      "Epoch 00029 | Loss 0.3142 | Test Acc 0.7240 | Time(s) 0.0175\n",
      "Epoch 00030 | Loss 0.2953 | Test Acc 0.7230 | Time(s) 0.0175\n",
      "Epoch 00031 | Loss 0.2776 | Test Acc 0.7230 | Time(s) 0.0175\n",
      "Epoch 00032 | Loss 0.2612 | Test Acc 0.7260 | Time(s) 0.0174\n",
      "Epoch 00033 | Loss 0.2461 | Test Acc 0.7270 | Time(s) 0.0175\n",
      "Epoch 00034 | Loss 0.2319 | Test Acc 0.7240 | Time(s) 0.0175\n",
      "Epoch 00035 | Loss 0.2187 | Test Acc 0.7220 | Time(s) 0.0175\n",
      "Epoch 00036 | Loss 0.2064 | Test Acc 0.7230 | Time(s) 0.0175\n",
      "Epoch 00037 | Loss 0.1949 | Test Acc 0.7220 | Time(s) 0.0175\n",
      "Epoch 00038 | Loss 0.1841 | Test Acc 0.7220 | Time(s) 0.0174\n",
      "Epoch 00039 | Loss 0.1741 | Test Acc 0.7200 | Time(s) 0.0176\n",
      "Epoch 00040 | Loss 0.1647 | Test Acc 0.7220 | Time(s) 0.0176\n",
      "Epoch 00041 | Loss 0.1559 | Test Acc 0.7200 | Time(s) 0.0176\n",
      "Epoch 00042 | Loss 0.1478 | Test Acc 0.7190 | Time(s) 0.0176\n",
      "Epoch 00043 | Loss 0.1401 | Test Acc 0.7210 | Time(s) 0.0176\n",
      "Epoch 00044 | Loss 0.1329 | Test Acc 0.7200 | Time(s) 0.0176\n",
      "Epoch 00045 | Loss 0.1262 | Test Acc 0.7230 | Time(s) 0.0177\n",
      "Epoch 00046 | Loss 0.1199 | Test Acc 0.7220 | Time(s) 0.0177\n",
      "Epoch 00047 | Loss 0.1140 | Test Acc 0.7220 | Time(s) 0.0177\n",
      "Epoch 00048 | Loss 0.1086 | Test Acc 0.7210 | Time(s) 0.0177\n",
      "Epoch 00049 | Loss 0.1034 | Test Acc 0.7220 | Time(s) 0.0176\n"
     ]
    }
   ],
   "source": [
    "import time\n",
    "import numpy as np\n",
    "g, features, labels, train_mask, test_mask = load_cora_data()\n",
    "optimizer = th.optim.Adam(net.parameters(), lr=1e-2)\n",
    "dur = []\n",
    "for epoch in range(50):\n",
    "    if epoch >=3:\n",
    "        t0 = time.time()\n",
    "\n",
    "    net.train()\n",
    "    logits = net(g, features)\n",
    "    logp = F.log_softmax(logits, 1)\n",
    "    loss = F.nll_loss(logp[train_mask], labels[train_mask])\n",
    "    \n",
    "    optimizer.zero_grad()\n",
    "    loss.backward()\n",
    "    optimizer.step()\n",
    "    \n",
    "    if epoch >=3:\n",
    "        dur.append(time.time() - t0)\n",
    "    \n",
    "    acc = evaluate(net, g, features, labels, test_mask)\n",
    "    print(\"Epoch {:05d} | Loss {:.4f} | Test Acc {:.4f} | Time(s) {:.4f}\".format(\n",
    "            epoch, loss.item(), acc, np.mean(dur)))"
   ]
  },
  {
   "cell_type": "markdown",
   "metadata": {},
   "source": [
    "\n",
    "GCN in one formula\n",
    "------------------\n",
    "Mathematically, the GCN model follows this formula:\n",
    "\n",
    "$H^{(l+1)} = \\sigma(\\tilde{D}^{-\\frac{1}{2}}\\tilde{A}\\tilde{D}^{-\\frac{1}{2}}H^{(l)}W^{(l)})$\n",
    "\n",
    "Here, $H^{(l)}$ denotes the $l^{th}$ layer in the network,\n",
    "$\\sigma$ is the non-linearity, and $W$ is the weight matrix for\n",
    "this layer. $D$ and $A$, as commonly seen, represent degree\n",
    "matrix and adjacency matrix, respectively. The ~ is a renormalization trick\n",
    "in which we add a self-connection to each node of the graph, and build the\n",
    "corresponding degree and adjacency matrix.  The shape of the input\n",
    "$H^{(0)}$ is $N \\times D$, where $N$ is the number of nodes\n",
    "and $D$ is the number of input features. We can chain up multiple\n",
    "layers as such to produce a node-level representation output with shape\n",
    ":math`N \\times F`, where $F$ is the dimension of the output node\n",
    "feature vector.\n",
    "\n",
    "The equation can be efficiently implemented using sparse matrix\n",
    "multiplication kernels (such as Kipf's\n",
    "`pygcn <https://github.com/tkipf/pygcn>`_ code). The above DGL implementation\n",
    "in fact has already used this trick due to the use of builtin functions. To\n",
    "understand what is under the hood, please read our tutorial on :doc:`PageRank <../../basics/3_pagerank>`.\n",
    "\n"
   ]
  }
 ],
 "metadata": {
  "kernelspec": {
   "display_name": "Python 3",
   "language": "python",
   "name": "python3"
  },
  "language_info": {
   "codemirror_mode": {
    "name": "ipython",
    "version": 3
   },
   "file_extension": ".py",
   "mimetype": "text/x-python",
   "name": "python",
   "nbconvert_exporter": "python",
   "pygments_lexer": "ipython3",
   "version": "3.7.4"
  }
 },
 "nbformat": 4,
 "nbformat_minor": 1
}
